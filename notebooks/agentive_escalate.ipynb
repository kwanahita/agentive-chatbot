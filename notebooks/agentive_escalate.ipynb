{
 "cells": [
  {
   "cell_type": "markdown",
   "metadata": {},
   "source": [
    "# Agentive Chatbot"
   ]
  },
  {
   "cell_type": "code",
   "execution_count": 28,
   "metadata": {},
   "outputs": [],
   "source": [
    "import os\n",
    "import time\n",
    "import datetime\n",
    "import ipywidgets as widgets\n",
    "from ipywidgets import HBox, Layout\n",
    "from IPython.display import display\n",
    "from dotenv import load_dotenv\n",
    "from semantic_router import Route\n",
    "from semantic_router.encoders import OpenAIEncoder\n",
    "from semantic_router.layer import RouteLayer\n",
    "from openai import OpenAI\n",
    "from enum import Enum\n",
    "import yaml\n",
    "\n",
    "load_dotenv('.env')\n",
    "api_key = os.getenv(\"OPENAI_API_KEY\")\n",
    "\n",
    "# separate this so we have separate semantic routes for categories and all subcategories\n",
    "agent_dir = \"agents\"\n",
    "all_routes = []\n",
    "prompts = {}\n",
    "\n",
    "for filename in os.listdir(agent_dir):\n",
    "    if filename.endswith(\".yaml\"):\n",
    "        filepath = os.path.join(agent_dir, filename)\n",
    "        with open(filepath, 'r') as file:\n",
    "            agent_data = yaml.safe_load(file)\n",
    "        if 'utterances' in agent_data:\n",
    "        # 1 Route object per agent\n",
    "            route = Route(\n",
    "                name=agent_data['agent_name'],\n",
    "                utterances=agent_data['utterances']\n",
    "            )\n",
    "            all_routes.append(route)\n",
    "        if 'prompt' in agent_data:\n",
    "        # Stores the agentive prompt in dictionary\n",
    "            prompts[agent_data['agent_name']] = agent_data['prompt']\n",
    "\n",
    "encoder = OpenAIEncoder()\n",
    "question_rl = RouteLayer(encoder=encoder, routes=all_routes)"
   ]
  },
  {
   "cell_type": "markdown",
   "metadata": {},
   "source": [
    "#### Variables to store the default system prompt and the catch-all prompt (to be used when no route is identified)"
   ]
  },
  {
   "cell_type": "code",
   "execution_count": 29,
   "metadata": {},
   "outputs": [],
   "source": [
    "system_prompt = \"\"\"\n",
    "You are a woman in your early 30s thinking about purchasing health insurance. \n",
    "This is your first meeting with the insurance agent. You are having a conversation with the insurance agent.\n",
    "\"\"\""
   ]
  },
  {
   "cell_type": "markdown",
   "metadata": {},
   "source": [
    "#### Defines logic for updating, activating, and deactivating prompts"
   ]
  },
  {
   "cell_type": "code",
   "execution_count": 30,
   "metadata": {},
   "outputs": [],
   "source": [
    "#returns one route per input\n",
    "def classify_question(prompt: str) -> str | list[str]:\n",
    "    r = question_rl(prompt)\n",
    "    return r.name\n",
    "\n",
    "class STATES(Enum):\n",
    "    OK = 0\n",
    "    ANNOYED = 1\n",
    "    FRUSTRATED = 2\n",
    "    ANGRY = 3\n",
    "    ENRAGED = 4\n",
    "\n",
    "CURRENT_STATE = STATES.OK\n",
    "\n",
    "def state_to_prompt(state: STATES) -> str:\n",
    "    state_mapping = {\n",
    "        STATES.OK: \"ok\",\n",
    "        STATES.ANNOYED: \"annoyed\",\n",
    "        STATES.FRUSTRATED: \"frustrated\",\n",
    "        STATES.ANGRY: \"angry\",\n",
    "        STATES.ENRAGED: \"enraged\",\n",
    "    }\n",
    "    return state_mapping[state]\n",
    "\n",
    "def update_prompt(user_input: str) -> str:\n",
    "    global CURRENT_STATE\n",
    "    question_category = classify_question(user_input)\n",
    "    print(f\"route: {question_category}\")\n",
    "   \n",
    "    if question_category == 'escalate':\n",
    "        if CURRENT_STATE != STATES.ENRAGED:\n",
    "            CURRENT_STATE = STATES(CURRENT_STATE.value + 1)\n",
    "    elif question_category == 'de_escalate':\n",
    "        if CURRENT_STATE != STATES.OK:\n",
    "            CURRENT_STATE = STATES(CURRENT_STATE.value - 1)\n",
    "    elif question_category is None:\n",
    "        if CURRENT_STATE != STATES.OK:\n",
    "            CURRENT_STATE = STATES(CURRENT_STATE.value + 1)\n",
    "    prompt_key = state_to_prompt(CURRENT_STATE)\n",
    "    prompt = prompts[prompt_key]\n",
    "    return prompt, question_category"
   ]
  },
  {
   "cell_type": "code",
   "execution_count": 31,
   "metadata": {},
   "outputs": [],
   "source": [
    "class ChatBot():  \n",
    "    def __init__(self, api_key, role): \n",
    "        self.client = OpenAI(api_key=api_key)\n",
    "        self.role = role\n",
    "        self.messages = [{\"role\": \"user\", \"content\": \"\"}]\n",
    "        self.all_conversations = []  # Store all conversations\n",
    "    \n",
    "    def query(self, query: str, prompt: str, route: str) -> None:\n",
    "        self.messages.append({\"role\": \"user\", \"content\": query})\n",
    "        self.messages.insert(0, {\"role\": \"system\", \"content\": self.role + prompt})\n",
    "        try:\n",
    "            stream = self.client.chat.completions.create(\n",
    "                model=\"gpt-4o-2024-08-06\", messages=self.messages,\n",
    "                stream=True,\n",
    "            )\n",
    "            text = []\n",
    "            for part in stream:\n",
    "                if part.choices[0].delta.content is not None:\n",
    "                    response_part = part.choices[0].delta.content\n",
    "                    print(response_part, end=\"\", flush=True)\n",
    "                    text.append(response_part)\n",
    "            full_reply_content = ''.join([m for m in text if m is not None])\n",
    "            self.messages.append({\"role\": \"assistant\", \"content\": full_reply_content})\n",
    "            self.messages.pop(0)  # Remove the role message for the next query\n",
    "            self.all_conversations.append(f\"\\nRoute: {route} \\nCurrent prompt: {prompt}\")\n",
    "            self.all_conversations.append(self.messages[-2:])\n",
    "            print('\\n')\n",
    "\n",
    "        except Exception as e:\n",
    "            print(f\"An error occurred: {e}\")\n",
    "\n",
    "    def save_whole_conversation(self, filename):\n",
    "        with open(f\"transcripts/{filename}\", \"w\") as file:\n",
    "            for conversation in self.all_conversations:\n",
    "                if isinstance(conversation, str):\n",
    "                    # If it's a string, write it directly\n",
    "                    file.write(conversation + \"\\n\")\n",
    "                elif isinstance(conversation, list):\n",
    "                    # If it's a list (e.g., self.messages[-2:]), handle it accordingly\n",
    "                    for message in conversation:\n",
    "                        if message[\"role\"] == \"user\":\n",
    "                            file.write(\"User: \" + message[\"content\"] + \"\\n\")\n",
    "                        elif message[\"role\"] == \"assistant\":\n",
    "                            file.write(\"Agent: \" + message[\"content\"] + \"\\n\")\n",
    "\n",
    "rpa = ChatBot(api_key=api_key, role = system_prompt)"
   ]
  },
  {
   "cell_type": "code",
   "execution_count": 32,
   "metadata": {},
   "outputs": [
    {
     "data": {
      "application/vnd.jupyter.widget-view+json": {
       "model_id": "b01fd05b297d4ee8bd0199fe8a015fb6",
       "version_major": 2,
       "version_minor": 0
      },
      "text/plain": [
       "Textarea(value='', layout=Layout(height='50px', width='100%'), placeholder='Type here :)')"
      ]
     },
     "metadata": {},
     "output_type": "display_data"
    },
    {
     "data": {
      "application/vnd.jupyter.widget-view+json": {
       "model_id": "7759934827b149f2a273e48a442b8af1",
       "version_major": 2,
       "version_minor": 0
      },
      "text/plain": [
       "HBox(children=(Button(description='Submit', style=ButtonStyle(button_color='lightpink')), Button(description='…"
      ]
     },
     "metadata": {},
     "output_type": "display_data"
    },
    {
     "name": "stdout",
     "output_type": "stream",
     "text": [
      "route: None\n"
     ]
    },
    {
     "ename": "KeyError",
     "evalue": "<STATES.OK: 0>",
     "output_type": "error",
     "traceback": [
      "\u001b[0;31m---------------------------------------------------------------------------\u001b[0m",
      "\u001b[0;31mKeyError\u001b[0m                                  Traceback (most recent call last)",
      "Cell \u001b[0;32mIn[32], line 3\u001b[0m, in \u001b[0;36mon_pasted_submit\u001b[0;34m(b)\u001b[0m\n\u001b[1;32m      1\u001b[0m \u001b[38;5;28;01mdef\u001b[39;00m \u001b[38;5;21mon_pasted_submit\u001b[39m(b):\n\u001b[1;32m      2\u001b[0m     pasted_content \u001b[38;5;241m=\u001b[39m pasted_input_field\u001b[38;5;241m.\u001b[39mvalue\n\u001b[0;32m----> 3\u001b[0m     PROMPT, ROUTE \u001b[38;5;241m=\u001b[39m \u001b[43mupdate_prompt\u001b[49m\u001b[43m(\u001b[49m\u001b[43mpasted_content\u001b[49m\u001b[43m)\u001b[49m\n\u001b[1;32m      4\u001b[0m     \u001b[38;5;28mprint\u001b[39m(\u001b[38;5;124mf\u001b[39m\u001b[38;5;124m\"\u001b[39m\u001b[38;5;124mcurrent prompt: \u001b[39m\u001b[38;5;132;01m{\u001b[39;00mPROMPT\u001b[38;5;132;01m}\u001b[39;00m\u001b[38;5;124m\"\u001b[39m)\n\u001b[1;32m      5\u001b[0m     rpa\u001b[38;5;241m.\u001b[39mquery(pasted_content, prompt\u001b[38;5;241m=\u001b[39mPROMPT, route \u001b[38;5;241m=\u001b[39m ROUTE)\n",
      "Cell \u001b[0;32mIn[30], line 31\u001b[0m, in \u001b[0;36mupdate_prompt\u001b[0;34m(user_input)\u001b[0m\n\u001b[1;32m     29\u001b[0m     \u001b[38;5;28;01mif\u001b[39;00m CURRENT_STATE \u001b[38;5;241m!=\u001b[39m STATES\u001b[38;5;241m.\u001b[39mOK:\n\u001b[1;32m     30\u001b[0m         CURRENT_STATE \u001b[38;5;241m=\u001b[39m STATES(CURRENT_STATE\u001b[38;5;241m.\u001b[39mvalue \u001b[38;5;241m+\u001b[39m \u001b[38;5;241m1\u001b[39m)\n\u001b[0;32m---> 31\u001b[0m     prompt \u001b[38;5;241m=\u001b[39m \u001b[43mprompts\u001b[49m\u001b[43m[\u001b[49m\u001b[43mCURRENT_STATE\u001b[49m\u001b[43m]\u001b[49m\n\u001b[1;32m     32\u001b[0m \u001b[38;5;28;01melse\u001b[39;00m:\n\u001b[1;32m     33\u001b[0m     prompt \u001b[38;5;241m=\u001b[39m prompts[CURRENT_STATE]\n",
      "\u001b[0;31mKeyError\u001b[0m: <STATES.OK: 0>"
     ]
    }
   ],
   "source": [
    "def on_pasted_submit(b):\n",
    "    pasted_content = pasted_input_field.value\n",
    "    PROMPT, ROUTE = update_prompt(pasted_content)\n",
    "    print(f\"current prompt: {PROMPT}\")\n",
    "    rpa.query(pasted_content, prompt=PROMPT, route = ROUTE)\n",
    "    time.sleep(1)\n",
    "    pasted_input_field.value = \"\"\n",
    "\n",
    "def on_save_click(b):\n",
    "    timestamp = datetime.datetime.now().strftime(\"%Y%m%d_%H%M%S\")\n",
    "    filename = f\"{timestamp}.txt\"\n",
    "    rpa.save_whole_conversation(filename)\n",
    "\n",
    "# Additional input field for pasted content\n",
    "pasted_input_field = widgets.Textarea(\n",
    "    placeholder='Type here :)',\n",
    "    layout=widgets.Layout(width='100%', height='50px')  # Adjust height as needed\n",
    ")\n",
    "# Button for pasted content submission\n",
    "pasted_submit_button = widgets.Button(description='Submit')\n",
    "pasted_submit_button.style.button_color = 'lightpink'  # Change to your desired color\n",
    "\n",
    "# Button for saving chat history\n",
    "save_button = widgets.Button(description='Save')\n",
    "save_button.style.button_color = 'lightgrey'  # Change to your desired color\n",
    "\n",
    "pasted_submit_button.on_click(on_pasted_submit)\n",
    "save_button.on_click(on_save_click)\n",
    "\n",
    "# Arrange buttons side by side and center them using HBox\n",
    "button_layout = HBox([pasted_submit_button, save_button], layout=Layout(justify_content='center'))\n",
    "\n",
    "# Display the input fields and the button layout\n",
    "display(pasted_input_field, button_layout)"
   ]
  }
 ],
 "metadata": {
  "kernelspec": {
   "display_name": "chatbot",
   "language": "python",
   "name": "python3"
  },
  "language_info": {
   "codemirror_mode": {
    "name": "ipython",
    "version": 3
   },
   "file_extension": ".py",
   "mimetype": "text/x-python",
   "name": "python",
   "nbconvert_exporter": "python",
   "pygments_lexer": "ipython3",
   "version": "3.12.4"
  }
 },
 "nbformat": 4,
 "nbformat_minor": 2
}
